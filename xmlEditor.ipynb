{
 "cells": [
  {
   "cell_type": "code",
   "execution_count": 46,
   "id": "bda8dcfc-a110-4147-ad84-5c07f79bcf5e",
   "metadata": {},
   "outputs": [
    {
     "name": "stdout",
     "output_type": "stream",
     "text": [
      "The XML file 'MapPlan_1ea4f7e4-212b-449f-9f67-98332577be78.xml' is located at: C:/Users/Home/Downloads/Уфа Часть1/extracted_files\\MapPlan_1ea4f7e4-212b-449f-9f67-98332577be78.xml\n",
      "The X and Y numbers have been saved to C:/Users/Home/Downloads/Уфа Часть1/extracted_files\\point_numbers.txt\n"
     ]
    }
   ],
   "source": [
    "import os\n",
    "import zipfile\n",
    "import xml.etree.ElementTree as ET\n",
    "\n",
    "\n",
    "# Path to the zip file\n",
    "zip_file_path = 'C:/Users/Home/Downloads/Уфа Часть1/Ж3.16.zip'\n",
    "\n",
    "# Directory to extract the file\n",
    "extract_dir = 'C:/Users/Home/Downloads/Уфа Часть1/extracted_files'\n",
    "\n",
    "# Ensure the extraction directory exists\n",
    "os.makedirs(extract_dir, exist_ok=True)\n",
    "\n",
    "# Extract the file with the 'MapPlan_' prefix from the zip archive\n",
    "with zipfile.ZipFile(zip_file_path, 'r') as zipf:\n",
    "    for file_info in zipf.infolist():\n",
    "        if file_info.filename.startswith('MapPlan_'):\n",
    "            zipf.extract(file_info, extract_dir)\n",
    "            extracted_file_path = os.path.join(extract_dir, file_info.filename)\n",
    "            break\n",
    "\n",
    "# Fetch the XML data from the URL\n",
    "file_list = os.listdir(extract_dir)\n",
    "xml_file = next((file for file in file_list if file.endswith('.xml')), None)\n",
    "\n",
    "if xml_file:\n",
    "    xml_file_path = os.path.join(extract_dir, xml_file)\n",
    "    print(f\"The XML file '{xml_file}' is located at: {xml_file_path}\")\n",
    "\n",
    "    # Parse the XML data\n",
    "    tree = ET.parse(xml_file_path)\n",
    "\n",
    "    namespaces = {'Spa1': 'urn://x-artefacts-rosreestr-ru/commons/complex-types/entity-spatial/1.0.2'}\n",
    "    # Find all elements with the tag \"Точка\"\n",
    "    point_elements = tree.findall('.//Spa1:SpatialElement', namespaces)\n",
    "\n",
    "    # Extract X and Y numbers from each \"Точка\" element\n",
    "    point_data = []\n",
    "    for element in point_elements:\n",
    "        for point in element.findall('.//Spa1:Ordinate', namespaces):\n",
    "            x_number = point.get('X')\n",
    "            y_number = point.get('Y')\n",
    "\n",
    "            point_data.append({'X': x_number, 'Y': y_number})\n",
    "\n",
    "    file_name = 'point_numbers.txt'\n",
    "    # Full file path\n",
    "    file_path = os.path.join(extract_dir, file_name)\n",
    "\n",
    "    # Write X and Y numbers to the file\n",
    "    with open(file_path, 'w') as file:\n",
    "        for data in point_data:\n",
    "            file.write(f\"{data['X']}, {data['Y']}\\n\")\n",
    "\n",
    "    # Print a message to confirm the file creation\n",
    "    print(f\"The X and Y numbers have been saved to {file_path}\")\n",
    "else:\n",
    "    print(\"No XML file found in the directory.\")\n"
   ]
  },
  {
   "cell_type": "code",
   "execution_count": null,
   "id": "89645f11-e1fb-4674-9e79-a2068d67b403",
   "metadata": {},
   "outputs": [],
   "source": []
  },
  {
   "cell_type": "code",
   "execution_count": null,
   "id": "29dee271-7c76-4f8c-ae17-67e07c3c4dd7",
   "metadata": {},
   "outputs": [],
   "source": []
  },
  {
   "cell_type": "code",
   "execution_count": null,
   "id": "282794e9-5673-4cc8-b34d-ce14b91f3250",
   "metadata": {},
   "outputs": [],
   "source": []
  }
 ],
 "metadata": {
  "kernelspec": {
   "display_name": "Python 3 (ipykernel)",
   "language": "python",
   "name": "python3"
  },
  "language_info": {
   "codemirror_mode": {
    "name": "ipython",
    "version": 3
   },
   "file_extension": ".py",
   "mimetype": "text/x-python",
   "name": "python",
   "nbconvert_exporter": "python",
   "pygments_lexer": "ipython3",
   "version": "3.11.7"
  }
 },
 "nbformat": 4,
 "nbformat_minor": 5
}
