{
 "cells": [
  {
   "cell_type": "code",
   "execution_count": 21,
   "id": "ff4e03b5-8b36-46ce-a807-3f4c4dbe8f7f",
   "metadata": {},
   "outputs": [
    {
     "name": "stderr",
     "output_type": "stream",
     "text": [
      "100%|██████████| 91/91 [00:34<00:00,  2.65it/s]\n"
     ]
    }
   ],
   "source": [
    "import pandas as pd\n",
    "import requests\n",
    "from tqdm import tqdm\n",
    "import geopandas as gpd\n",
    "from shapely.geometry import Point\n",
    "\n",
    "def geocode_address(address, timeout=10):\n",
    "    API_URL = \"https://maps.googleapis.com/maps/api/geocode/json\"\n",
    "    params = {\n",
    "        \"address\": address,\n",
    "        \"key\": \"write here your google api\",\n",
    "        \"language\": \"ru\"\n",
    "    }\n",
    "    try:\n",
    "        response = requests.get(API_URL, params=params, timeout=timeout)\n",
    "        if response.status_code == 200:\n",
    "            data = response.json()\n",
    "            if data['results']:\n",
    "                lat = data['results'][0]['geometry']['location']['lat']\n",
    "                lng = data['results'][0]['geometry']['location']['lng']\n",
    "                return {\"lat\": lat, \"lng\": lng}\n",
    "        else:\n",
    "            print(f\"Failed to geocode address with status code {response.status_code}: {address}\")\n",
    "    except requests.Timeout:\n",
    "        print(f\"Request timed out for address: {address}\")\n",
    "    except requests.RequestException as e:\n",
    "        print(f\"Request exception for address {address}: {e}\")\n",
    "    return None\n",
    "\n",
    "import pandas as pd\n",
    "import requests\n",
    "from tqdm import tqdm\n",
    "import geopandas as gpd\n",
    "from shapely.geometry import Point\n",
    "\n",
    "# existing geocode_address function \n",
    "\n",
    "# Placeholder path for your Excel file\n",
    "file_path = r'C:\\Users\\[user]\\Downloads\\yourfile.xls'\n",
    "df = pd.read_excel(file_path)\n",
    "\n",
    "# Initialize an empty GeoDataFrame with the additional attributes\n",
    "gdf = gpd.GeoDataFrame(columns=[\n",
    "    'address', 'metro', 'walking_time_to_metro', 'square_meters', 'city', 'cost','geometry'\n",
    "])\n",
    "\n",
    "# Loop through the DataFrame, geocoding each address\n",
    "for index, row in tqdm(df.iterrows(), total=df.shape[0]):\n",
    "    street_name = row['Улица']  # Assuming 'Улица' is your column name for addresses\n",
    "    city = row['Город']\n",
    "    full_address = f\"{street_name}, {city}, Russia\"\n",
    "    result = geocode_address(full_address)\n",
    "\n",
    "    if result:\n",
    "        # Create a Shapely Point from the result coordinates\n",
    "        point = Point(result['lng'], result['lat'])\n",
    "\n",
    "        # Create a new DataFrame for the current row and concatenate it with the main GeoDataFrame\n",
    "        new_row = gpd.GeoDataFrame({\n",
    "            'address': [street_name],\n",
    "            'metro': [row['Метро']],\n",
    "            'walking_time_to_metro': [row['Кол-во минут пешком до метро']],\n",
    "            'square_meters': [row['Площадь']],\n",
    "            'city': [city],\n",
    "            'cost':[row['Цена, млн руб.']],\n",
    "            'geometry': [point]\n",
    "        }, columns=gdf.columns)\n",
    "        gdf = pd.concat([gdf, new_row], ignore_index=True)\n",
    "    else:\n",
    "        print(f\"Failed to geocode address: {full_address}\")\n",
    "\n",
    "# Set the coordinate reference system (CRS) to WGS84\n",
    "gdf.set_crs(epsg=4326, inplace=True)\n",
    "\n",
    "# Export to GeoJSON\n",
    "geojson_file_path = r'your file path like - D:\\geojson\\matched_buildings.geojson'\n",
    "gdf.to_file(geojson_file_path, driver='GeoJSON')\n"
   ]
  },
  {
   "cell_type": "code",
   "execution_count": null,
   "id": "9ac3a98e-ff3b-4381-beac-7eef9b641b0f",
   "metadata": {},
   "outputs": [],
   "source": []
  },
  {
   "cell_type": "code",
   "execution_count": null,
   "id": "14ef4d86-d90a-4078-88e9-9f2b6586423d",
   "metadata": {},
   "outputs": [],
   "source": []
  }
 ],
 "metadata": {
  "kernelspec": {
   "display_name": "Python 3 (ipykernel)",
   "language": "python",
   "name": "python3"
  },
  "language_info": {
   "codemirror_mode": {
    "name": "ipython",
    "version": 3
   },
   "file_extension": ".py",
   "mimetype": "text/x-python",
   "name": "python",
   "nbconvert_exporter": "python",
   "pygments_lexer": "ipython3",
   "version": "3.11.7"
  }
 },
 "nbformat": 4,
 "nbformat_minor": 5
}
